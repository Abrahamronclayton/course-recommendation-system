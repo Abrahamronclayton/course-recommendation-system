{
 "cells": [
  {
   "cell_type": "markdown",
   "id": "99b7b0e3",
   "metadata": {},
   "source": [
    "# Online Course Recommendation System\n",
    "This notebook is a starter template for building a content-based or collaborative filtering course recommendation system."
   ]
  },
  {
   "cell_type": "markdown",
   "id": "914b6c8d",
   "metadata": {},
   "source": [
    "## Step 1: Import Libraries"
   ]
  },
  {
   "cell_type": "code",
   "execution_count": null,
   "id": "3acce7ba",
   "metadata": {},
   "outputs": [],
   "source": [
    "import pandas as pd\n",
    "import numpy as np\n",
    "from sklearn.feature_extraction.text import TfidfVectorizer\n",
    "from sklearn.metrics.pairwise import cosine_similarity"
   ]
  },
  {
   "cell_type": "markdown",
   "id": "ada0dc9a",
   "metadata": {},
   "source": [
    "## Step 2: Load Dataset"
   ]
  },
  {
   "cell_type": "code",
   "execution_count": null,
   "id": "3abb2ab9",
   "metadata": {},
   "outputs": [],
   "source": [
    "# courses_df = pd.read_csv('courses.csv')\n",
    "# courses_df.head()"
   ]
  },
  {
   "cell_type": "markdown",
   "id": "575131c1",
   "metadata": {},
   "source": [
    "## Step 3: Text Vectorization (e.g., Course Title + Description)"
   ]
  },
  {
   "cell_type": "code",
   "execution_count": null,
   "id": "aed74b68",
   "metadata": {},
   "outputs": [],
   "source": [
    "# tfidf = TfidfVectorizer(stop_words='english')\n",
    "# tfidf_matrix = tfidf.fit_transform(courses_df['description'])"
   ]
  },
  {
   "cell_type": "markdown",
   "id": "83eb83bc",
   "metadata": {},
   "source": [
    "## Step 4: Similarity Calculation"
   ]
  },
  {
   "cell_type": "code",
   "execution_count": null,
   "id": "4daeaf59",
   "metadata": {},
   "outputs": [],
   "source": [
    "# cosine_sim = cosine_similarity(tfidf_matrix, tfidf_matrix)"
   ]
  },
  {
   "cell_type": "markdown",
   "id": "824e8e12",
   "metadata": {},
   "source": [
    "## Step 5: Recommendation Function"
   ]
  },
  {
   "cell_type": "code",
   "execution_count": null,
   "id": "3506d7c8",
   "metadata": {},
   "outputs": [],
   "source": [
    "# def recommend(course_title):\n",
    "#     idx = courses_df[courses_df['title'] == course_title].index[0]\n",
    "#     sim_scores = list(enumerate(cosine_sim[idx]))\n",
    "#     sim_scores = sorted(sim_scores, key=lambda x: x[1], reverse=True)\n",
    "#     sim_scores = sim_scores[1:6]\n",
    "#     course_indices = [i[0] for i in sim_scores]\n",
    "#     return courses_df['title'].iloc[course_indices]"
   ]
  }
 ],
 "metadata": {},
 "nbformat": 4,
 "nbformat_minor": 5
}
